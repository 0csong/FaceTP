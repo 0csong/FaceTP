{
 "cells": [
  {
   "cell_type": "code",
   "execution_count": 1,
   "id": "cb3e1dfd",
   "metadata": {},
   "outputs": [
    {
     "name": "stdout",
     "output_type": "stream",
     "text": [
      "Number of faces detected: 2\n"
     ]
    },
    {
     "data": {
      "text/plain": [
       "-1"
      ]
     },
     "execution_count": 1,
     "metadata": {},
     "output_type": "execute_result"
    }
   ],
   "source": [
    "from imutils import face_utils\n",
    "import numpy as np\n",
    "import cv2\n",
    "import glob\n",
    "import dlib\n",
    "\n",
    "ALL = list(range(0, 68))\n",
    "age_list = ['(0-2)','(4-6)','(8-12)','(15-20)','(25-32)','(38-43)','(48-53)','(60-100)']\n",
    "gender_list = ['Male', 'Female']\n",
    "\n",
    "predictor_file = 'shape_predictor_68_face_landmarks.dat'\n",
    "predictor = dlib.shape_predictor(predictor_file)\n",
    "detector = dlib.get_frontal_face_detector()\n",
    "age_net = cv2.dnn.readNetFromCaffe(\n",
    "          'age_deploy.prototxt', \n",
    "          'age_net.caffemodel')\n",
    "gender_net = cv2.dnn.readNetFromCaffe(\n",
    "          'gender_deploy.prototxt', \n",
    "          'gender_net.caffemodel')\n",
    "\n",
    "img_file = glob.glob('dami.jpg')\n",
    "\n",
    "for img_path in img_file:\n",
    "    img = cv2.imread(img_path)\n",
    "    gray = cv2.cvtColor(img, cv2.COLOR_BGR2GRAY)\n",
    "    faces = detector(gray, 1)\n",
    "    print(\"Number of faces detected: {}\".format(len(faces)))\n",
    "\n",
    "                     \n",
    "for (i, rect) in enumerate(faces):\n",
    "    points = np.matrix([[p.x, p.y] for p in predictor(gray, rect).parts()])\n",
    "    show_parts = points[ALL]  \n",
    "    \n",
    "    for (i, point) in enumerate(show_parts):\n",
    "        x = point[0,0]\n",
    "        y = point[0,1]\n",
    "        (x, y, w, h) = face_utils.rect_to_bb(rect)\n",
    "        face_img = img[y:y + h, x:x + w].copy()\n",
    "        blob = cv2.dnn.blobFromImage(face_img, scalefactor=1, size=(227, 227),\n",
    "        mean=(78.4263377603, 87.7689143744, 114.895847746),\n",
    "        swapRB=False, crop=False)\n",
    "        \n",
    "    # predict gender\n",
    "    gender_net.setInput(blob)\n",
    "    gender_preds = gender_net.forward()\n",
    "    gender = gender_list[gender_preds[0].argmax()]\n",
    "\n",
    "    # predict age\n",
    "    age_net.setInput(blob)\n",
    "    age_preds = age_net.forward()\n",
    "    age = age_list[age_preds[0].argmax()]\n",
    "\n",
    "    # visualize\n",
    "    cv2.circle(img, (x, y), 1, (0, 255, 255), -1)\n",
    "    #cv2.rectangle(img, (x, y), (x + w, y + h), (0, 255, 0), 2)\n",
    "    face_blur = cv2.GaussianBlur(face_img,(99,99), 30)\n",
    "    img[y:y + h, x:x + w] = face_blur                             \n",
    "    overlay_text = '%s %s' % (gender, age)\n",
    "    cv2.putText(img, overlay_text, org=(x, y),\n",
    "    fontFace=cv2.FONT_HERSHEY_SIMPLEX, fontScale=0.45, color=(0,255,0), thickness=2)\n",
    "\n",
    "cv2.imshow('img', img)\n",
    "cv2.imwrite('result/%s' % img_path.split('/')[-1], img)\n",
    "cv2.waitKey(0)  "
   ]
  },
  {
   "cell_type": "code",
   "execution_count": null,
   "id": "ef8e4600",
   "metadata": {},
   "outputs": [],
   "source": []
  }
 ],
 "metadata": {
  "kernelspec": {
   "display_name": "Python 3 (ipykernel)",
   "language": "python",
   "name": "python3"
  },
  "language_info": {
   "codemirror_mode": {
    "name": "ipython",
    "version": 3
   },
   "file_extension": ".py",
   "mimetype": "text/x-python",
   "name": "python",
   "nbconvert_exporter": "python",
   "pygments_lexer": "ipython3",
   "version": "3.8.8"
  }
 },
 "nbformat": 4,
 "nbformat_minor": 5
}
