{
 "cells": [
  {
   "cell_type": "code",
   "execution_count": 1,
   "id": "009b3de1",
   "metadata": {},
   "outputs": [
    {
     "name": "stdout",
     "output_type": "stream",
     "text": [
      "Number of faces detected: 2\n"
     ]
    },
    {
     "data": {
      "text/plain": [
       "-1"
      ]
     },
     "execution_count": 1,
     "metadata": {},
     "output_type": "execute_result"
    }
   ],
   "source": [
    "from imutils import face_utils\n",
    "import numpy as np\n",
    "import dlib  # landmark를 인식하는데 사용 \n",
    "import cv2  \n",
    "\n",
    "# 68개의 점을 구현 \n",
    "RIGHT_EYE = list(range(36, 42))  # 36~41\n",
    "LEFT_EYE = list(range(42, 48))\n",
    "MOUTH = list(range(48, 68))\n",
    "NOSE = list(range(27, 36))\n",
    "EYEBROWS = list(range(17, 27))\n",
    "JAWLINE = list(range(1, 17))\n",
    "ALL = list(range(0, 68))\n",
    "EYES = list(range(36, 48))\n",
    "\n",
    "predictor_file = 'shape_predictor_68_face_landmarks.dat'  # 학습된 모델 사용\n",
    "image_file = 'dami.jpg'\n",
    "\n",
    "detector = dlib.get_frontal_face_detector()  \n",
    "predictor = dlib.shape_predictor(predictor_file)\n",
    "# 얼굴 부분을 alignment할 때 사용 \n",
    "\n",
    "image = cv2.imread(image_file)\n",
    "gray = cv2.cvtColor(image, cv2.COLOR_BGR2GRAY)\n",
    "# 인식률을 높이기 위해 rgb 3개의 채널을 1개의 채널로 단순\n",
    "\n",
    "rects = detector(gray, 1)\n",
    "# detection을 하기 전에 layer를 upscaling(detection하기 전에 layer를 몇번 적용?)\n",
    "print(\"Number of faces detected: {}\".format(len(rects)))\n",
    "\n",
    "\n",
    "for (i, rect) in enumerate(rects):\n",
    "    points = np.matrix([[p.x, p.y] for p in predictor(gray, rect).parts()])\n",
    "    # predictor을 이용해 얼굴 part는 찾음. 2차원 배열에 점들의 x,y좌표\n",
    "    show_parts = points[ALL]  \n",
    "    \n",
    "    for (i, point) in enumerate(show_parts):\n",
    "        x = point[0,0]\n",
    "        y = point[0,1]\n",
    "        cv2.circle(image, (x, y), 1, (0, 255, 255), -1)\n",
    "        (x, y, w, h) = face_utils.rect_to_bb(rect)\n",
    "        cv2.rectangle(image, (x, y), (x + w, y + h), (0, 255, 0), 2)\n",
    "        #cv2.putText(image, \"{}\".format(i + 1), (x, y - 2),\n",
    "\t\t#cv2.FONT_HERSHEY_SIMPLEX, 0.3, (0, 255, 0), 1)\n",
    "\n",
    "cv2.imshow(\"Face Landmark\", image)\n",
    "cv2.waitKey(0)   "
   ]
  },
  {
   "cell_type": "code",
   "execution_count": null,
   "id": "d592672a",
   "metadata": {},
   "outputs": [],
   "source": []
  }
 ],
 "metadata": {
  "kernelspec": {
   "display_name": "Python 3 (ipykernel)",
   "language": "python",
   "name": "python3"
  },
  "language_info": {
   "codemirror_mode": {
    "name": "ipython",
    "version": 3
   },
   "file_extension": ".py",
   "mimetype": "text/x-python",
   "name": "python",
   "nbconvert_exporter": "python",
   "pygments_lexer": "ipython3",
   "version": "3.8.8"
  }
 },
 "nbformat": 4,
 "nbformat_minor": 5
}
