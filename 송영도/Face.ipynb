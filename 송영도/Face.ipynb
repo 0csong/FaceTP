{
 "cells": [
  {
   "cell_type": "code",
   "execution_count": 1,
   "id": "b51b9eb3",
   "metadata": {
    "scrolled": true
   },
   "outputs": [
    {
     "name": "stdout",
     "output_type": "stream",
     "text": [
      "잘되네\n"
     ]
    }
   ],
   "source": [
    "from statistics import mode\n",
    "\n",
    "import cv2\n",
    "from keras.models import load_model\n",
    "import numpy as np\n",
    "import utils\n",
    "from utils.datasets import get_labels\n",
    "from utils.inference import detect_faces\n",
    "from utils.inference import draw_text\n",
    "from utils.inference import draw_bounding_box\n",
    "from utils.inference import apply_offsets\n",
    "from utils.inference import load_detection_model\n",
    "from utils.preprocessor import preprocess_input\n",
    "#만약 프롬포트에서 python으로 import tensorflow가 되고 주피터 커널로 실행이 안된다면 pip install ipykernel해서 커널을 설치하고 다시 연결\n",
    "#pip install tensorflow가 안된다면 지우고 다시해봄 그리고 파이썬을 지웠다가 아나콘다 파이썬 버전과 맞춰줌 pip install h5py와 같이\n",
    "#안됐던 이유는 아마 텐서플로의 버전과 파이썬 버전때문이 아닌듯 의심, python해서 import tensorflow가 된다면 커널문제이니 재설치등\n",
    "#h5py\\h5.pyx in init h5py.h5() \n",
    "#**AttributeError: type object 'h5py.h5.H5PYConfig' has no attribute '__reduce_cython__'**\n",
    "#오류의 경우 지우고 다시 깔거나 pip install cython 그리고 파이썬에서 바로 확인"
   ]
  },
  {
   "cell_type": "code",
   "execution_count": 2,
   "id": "a860c0e5",
   "metadata": {},
   "outputs": [
    {
     "name": "stdout",
     "output_type": "stream",
     "text": [
      "C:\\Users\\nicky\\Desktop\\졸프\n"
     ]
    }
   ],
   "source": [
    "import os \n",
    "print(os.getcwd())"
   ]
  },
  {
   "cell_type": "code",
   "execution_count": 3,
   "id": "4a43d7d4",
   "metadata": {},
   "outputs": [
    {
     "name": "stdout",
     "output_type": "stream",
     "text": [
      "3.8.8 (default, Apr 13 2021, 15:08:03) [MSC v.1916 64 bit (AMD64)]\n"
     ]
    }
   ],
   "source": [
    "import sys\n",
    "print(sys.version)"
   ]
  },
  {
   "cell_type": "code",
   "execution_count": 4,
   "id": "1f0767b8",
   "metadata": {},
   "outputs": [
    {
     "data": {
      "text/plain": [
       "'2.8.0'"
      ]
     },
     "execution_count": 4,
     "metadata": {},
     "output_type": "execute_result"
    }
   ],
   "source": [
    "import tensorflow as tf\n",
    "tf.__version__"
   ]
  },
  {
   "cell_type": "code",
   "execution_count": 52,
   "id": "26cd65fb",
   "metadata": {},
   "outputs": [],
   "source": [
    "# parameters for loading data and images\n",
    "detection_model_path = 'trained_models/detection_models/haarcascade_frontalface_default.xml'\n",
    "emotion_model_path = 'trained_models/emotion_models/mini_xception.h5'\n",
    "emotion_labels = get_labels('fer2013')\n",
    "net = cv2.dnn.readNetFromTorch('models/instance_norm/starry_night.t7')#화풍변경\n",
    "# hyper-parameters for bounding boxes shape\n",
    "frame_window = 10\n",
    "emotion_offsets = (20, 40)\n",
    "\n",
    "# loading models\n",
    "face_detection = load_detection_model(detection_model_path)\n",
    "emotion_classifier = load_model(emotion_model_path, compile=False)\n",
    "\n",
    "# getting input model shapes for inference\n",
    "emotion_target_size = emotion_classifier.input_shape[1:3]\n",
    "\n",
    "# starting lists for calculating modes\n",
    "emotion_window = []\n",
    "\n"
   ]
  },
  {
   "cell_type": "code",
   "execution_count": 55,
   "id": "a5279828",
   "metadata": {},
   "outputs": [],
   "source": [
    "# # video streaming\n",
    "# cv2.namedWindow('window_frame')\n",
    "# video_capture = cv2.VideoCapture(0)\n",
    "\n",
    "# while True:\n",
    "#     bgr_image = video_capture.read()[1]\n",
    "#     gray_image = cv2.cvtColor(bgr_image, cv2.COLOR_BGR2GRAY)\n",
    "#     rgb_image = cv2.cvtColor(bgr_image, cv2.COLOR_BGR2RGB)\n",
    "#     faces = detect_faces(face_detection, gray_image)\n",
    "\n",
    "#     for face_coordinates in faces:\n",
    "\n",
    "#         x1, x2, y1, y2 = apply_offsets(face_coordinates, emotion_offsets)\n",
    "#         gray_face = gray_image[y1:y2, x1:x2]\n",
    "#         try:\n",
    "#             gray_face = cv2.resize(gray_face, (emotion_target_size))\n",
    "#         except:\n",
    "#             continue\n",
    "\n",
    "#         gray_face = preprocess_input(gray_face, True)\n",
    "#         gray_face = np.expand_dims(gray_face, 0)\n",
    "#         gray_face = np.expand_dims(gray_face, -1)\n",
    "#         emotion_prediction = emotion_classifier.predict(gray_face)\n",
    "#         emotion_probability = np.max(emotion_prediction)\n",
    "#         emotion_label_arg = np.argmax(emotion_prediction)\n",
    "#         emotion_text = emotion_labels[emotion_label_arg]\n",
    "#         emotion_window.append(emotion_text)\n",
    "\n",
    "#         if len(emotion_window) > frame_window:\n",
    "#             emotion_window.pop(0)\n",
    "#         try:\n",
    "#             emotion_mode = mode(emotion_window)\n",
    "#         except:\n",
    "#             continue\n",
    "            \n",
    "#         if emotion_text == '0':\n",
    "#             color = emotion_probability * np.asarray((255, 0, 0))\n",
    "#             emotion_mode='angry'\n",
    "#         elif emotion_text == '1':\n",
    "#             color = emotion_probability * np.asarray((0, 0, 255))\n",
    "#             emotion_mode='disgust'\n",
    "#         elif emotion_text == '2':\n",
    "#             color = emotion_probability * np.asarray((255, 255, 0))\n",
    "#             emotion_mode='fear'\n",
    "#         elif emotion_text == '3':\n",
    "#             color = emotion_probability * np.asarray((0, 255, 255))\n",
    "#             emotion_mode='happy'\n",
    "#         elif emotion_text == '4':\n",
    "#             color = emotion_probability * np.asarray((0, 255, 255))\n",
    "#             emotion_mode='neutral'\n",
    "#         elif emotion_text == '5':\n",
    "#             color = emotion_probability * np.asarray((0, 255, 255))\n",
    "#             emotion_mode='sad'\n",
    "#         else:\n",
    "#             color = emotion_probability * np.asarray((0, 255, 0))\n",
    "#             emotion_mode='surprise'\n",
    "\n",
    "#         color = color.astype(int)\n",
    "#         color = color.tolist()\n",
    "\n",
    "#         draw_bounding_box(face_coordinates, rgb_image, color)\n",
    "#         draw_text(face_coordinates, rgb_image, emotion_mode,\n",
    "#                   color, 0, -45,2, 5)\n",
    "\n",
    "#     bgr_image = cv2.cvtColor(rgb_image, cv2.COLOR_RGB2BGR)\n",
    "    \n",
    "    \n",
    "#     MEAN_VALUE = [103.939, 116.779, 123.680]\n",
    "#     blob = cv2.dnn.blobFromImage(bgr_image, mean=MEAN_VALUE)\n",
    "\n",
    "#     net.setInput(blob)\n",
    "#     output = net.forward()\n",
    "\n",
    "#     output = output.squeeze().transpose((1, 2, 0))\n",
    "\n",
    "#     output += MEAN_VALUE\n",
    "#     output = np.clip(output, 0, 255)\n",
    "#     output = output.astype('uint8')\n",
    "    \n",
    "#     cv2.imshow('window_frame', output)\n",
    "#     if cv2.waitKey(1) & 0xFF == ord('q'):\n",
    "#         break\n",
    "# video_capture.release()\n",
    "# cv2.destroyAllWindows()"
   ]
  },
  {
   "cell_type": "code",
   "execution_count": 53,
   "id": "cf4a3372",
   "metadata": {},
   "outputs": [
    {
     "name": "stdout",
     "output_type": "stream",
     "text": [
      "0.9149137\n",
      "3\n",
      "3\n",
      "0.6098903\n",
      "3\n",
      "3\n",
      "0.5138295\n",
      "3\n",
      "3\n",
      "0.5335919\n",
      "4\n",
      "4\n",
      "['3', '3', '3', '4']\n"
     ]
    }
   ],
   "source": [
    "# By image\n",
    "img = cv2.imread('images/07.jpg')\n",
    "# img=cv2.rotate(img,cv2.ROTATE_90_COUNTERCLOCKWISE)#90도 반시계\n",
    "# img=cv2.rotate(img,cv2.ROTATE_90_CLOCKWISE)#90도 시계\n",
    "bgr_image = img\n",
    "gray_image = cv2.cvtColor(bgr_image, cv2.COLOR_BGR2GRAY)\n",
    "rgb_image = cv2.cvtColor(bgr_image, cv2.COLOR_BGR2RGB)\n",
    "faces = detect_faces(face_detection, gray_image)\n",
    "\n",
    "for face_coordinates in faces:\n",
    "\n",
    "    x1, x2, y1, y2 = apply_offsets(face_coordinates, emotion_offsets)\n",
    "    gray_face = gray_image[y1:y2, x1:x2]\n",
    "    try:\n",
    "        gray_face = cv2.resize(gray_face, (emotion_target_size))\n",
    "    except:\n",
    "        continue\n",
    "\n",
    "    gray_face = preprocess_input(gray_face, True)\n",
    "    gray_face = np.expand_dims(gray_face, 0)\n",
    "    gray_face = np.expand_dims(gray_face, -1)\n",
    "    emotion_prediction = emotion_classifier.predict(gray_face)\n",
    "    emotion_probability = np.max(emotion_prediction)\n",
    "    print(emotion_probability)\n",
    "    emotion_label_arg = np.argmax(emotion_prediction)#value\n",
    "    print(emotion_label_arg)\n",
    "    emotion_text = str(emotion_label_arg)\n",
    "    print(emotion_text)\n",
    "    emotion_window.append(emotion_text)\n",
    "\n",
    "    if len(emotion_window) > frame_window:\n",
    "        emotion_window.pop(0)\n",
    "    try:\n",
    "        emotion_mode = mode(emotion_window)\n",
    "    except:\n",
    "        continue\n",
    "\n",
    "    if emotion_text == '0':\n",
    "        color = emotion_probability * np.asarray((255, 0, 0))\n",
    "        emotion_mode='angry'\n",
    "    elif emotion_text == '1':\n",
    "        color = emotion_probability * np.asarray((0, 0, 255))\n",
    "        emotion_mode='disgust'\n",
    "    elif emotion_text == '2':\n",
    "        color = emotion_probability * np.asarray((255, 255, 0))\n",
    "        emotion_mode='fear'\n",
    "    elif emotion_text == '3':\n",
    "        color = emotion_probability * np.asarray((0, 255, 255))\n",
    "        emotion_mode='happy'\n",
    "    elif emotion_text == '4':\n",
    "        color = emotion_probability * np.asarray((0, 255, 255))\n",
    "        emotion_mode='neutral'\n",
    "    elif emotion_text == '5':\n",
    "        color = emotion_probability * np.asarray((0, 255, 255))\n",
    "        emotion_mode='sad'\n",
    "    else:\n",
    "        color = emotion_probability * np.asarray((0, 255, 0))\n",
    "        emotion_mode='surprise'\n",
    "\n",
    "    color = color.astype(int)\n",
    "    color = color.tolist()\n",
    "\n",
    "    draw_bounding_box(face_coordinates, rgb_image, color)\n",
    "    draw_text(face_coordinates, rgb_image, emotion_mode,\n",
    "              color, 0, -45, 2, 5)\n",
    "\n",
    "bgr_image = cv2.cvtColor(rgb_image, cv2.COLOR_RGB2BGR)\n",
    "\n",
    "MEAN_VALUE = [103.939, 116.779, 123.680]\n",
    "blob = cv2.dnn.blobFromImage(bgr_image, mean=MEAN_VALUE)\n",
    "\n",
    "net.setInput(blob)\n",
    "output = net.forward()\n",
    "\n",
    "output = output.squeeze().transpose((1, 2, 0))\n",
    "\n",
    "output += MEAN_VALUE\n",
    "output = np.clip(output, 0, 255)\n",
    "output = output.astype('uint8')\n",
    "\n",
    "print(emotion_window)\n",
    "\n",
    "\n",
    "\n",
    "cv2.imshow('before', cv2.resize(img,(540,720)))\n",
    "cv2.imshow('window_frame', cv2.resize(output,(540,720)))\n",
    "\n",
    "cv2.waitKey(0)\n",
    "cv2.destroyAllWindows()"
   ]
  }
 ],
 "metadata": {
  "kernelspec": {
   "display_name": "face",
   "language": "python",
   "name": "face"
  },
  "language_info": {
   "codemirror_mode": {
    "name": "ipython",
    "version": 3
   },
   "file_extension": ".py",
   "mimetype": "text/x-python",
   "name": "python",
   "nbconvert_exporter": "python",
   "pygments_lexer": "ipython3",
   "version": "3.8.8"
  }
 },
 "nbformat": 4,
 "nbformat_minor": 5
}
